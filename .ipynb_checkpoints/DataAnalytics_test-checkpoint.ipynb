{
 "cells": [
  {
   "cell_type": "markdown",
   "id": "9eec3119",
   "metadata": {
    "id": "9eec3119"
   },
   "source": [
    "# ST IT Cloud - Data and Analytics Test LV.4\n",
    "\n",
    "Esse teste deve avaliar alguns conceitos de big data e a qualidade técnica na manipulacão de dados, otimização de performance, trabalho com arquivos grandes e tratamento de qualidade.\n",
    "\n",
    "## Passo a passo\n",
    "\n",
    "- *Parte teórica:* responda as questões abaixo preenchendo as células em branco.\n",
    "- *Parte prática:* disponibilizamos aqui 2 cases para, leia os enunciados dos problemas, desenvolver os programas, utilizando a **stack definida durante o processo seletivo**, para entregar os dados de acordo com os requisitos descritos abaixo.\n",
    "\n",
    "\n",
    "\n",
    "**Faz parte dos critérios de avaliacão a pontualidade da entrega. Implemente até onde for possível dentro do prazo acordado.**\n",
    "\n",
    "**Os dados de pessoas foram gerados de forma aleatória, utilizando a biblioteca FakerJS, FakerJS-BR e Faker**\n",
    "\n",
    "LEMBRE-SE: A entrega deve conter TODOS os passos para o avaliador executar o programa (keep it simple).\n"
   ]
  },
  {
   "cell_type": "markdown",
   "id": "9447dec4",
   "metadata": {
    "id": "9447dec4"
   },
   "source": [
    "**Questão 1** - Descreva de forma detalhada quais são as etapas na construção de um pipeline de dados, sem considerar ferramentas específicas, imagine que é seu primeiro contato com o cliente e você precisa entender a demanda dele e explicar quais são os passos que você terá que implementar para entregar a demanda."
   ]
  },
  {
   "cell_type": "markdown",
   "id": "AFtknKNDwNrD",
   "metadata": {
    "id": "AFtknKNDwNrD"
   },
   "source": [
    "Deve-se realizar verificar com o o usuario do sistema qual o objetivo do cliente (quais dados o cliente quer apresentado).\n",
    "Logo apos verificar a fonte dos dados, bem como se a coleta sera Stream ou Batch. Logo então realiza-se uma analise de requisitos (ferramentas, custos, mão de obra) e um planejamento pre-eliminar e os apresenta ao cliente. Se o cliente achar o investimento e o planejamento condizente avançamos para o desenvolvimento."
   ]
  },
  {
   "cell_type": "markdown",
   "id": "dc703af3",
   "metadata": {
    "id": "dc703af3"
   },
   "source": [
    "**Questão 2** - Defina com suas palavras um processamento em streaming e processamento em batch. Qual sua experiência com cada uma delas."
   ]
  },
  {
   "cell_type": "markdown",
   "id": "uU63Q96Lt5-n",
   "metadata": {
    "id": "uU63Q96Lt5-n"
   },
   "source": [
    "Bathc: Os dados são carregados obedecendo periodos de latencia (hora em hora, dias em dias e etc). Já desenvolvi um sistema de sensoriamento desde a projeção eletrica dos sensores até a arquitetura e envio dos dados, durante a estadia no IST, em que dados de um modulo de sensor era enviados usando um protocolo de alta latencia (MQTT). O servidor armazenava os dados em uma base de dados relacional, e um job capturava os dados diariamente e realizava o processo de enviar para a area de stagging em um servidor no EC2 onde era aplicado o ETL aos dados.\n",
    "\n",
    "Stremming: Os dados são enviados em tempo real para o processo de ETL. Meu trabalho de conclusão de curso foi um multimedidor trifasico que realiza a medição da rede trifasica ou monofasica e envia os dados via MQTT para um servidor pessoal, onde usando um processo incremental de ETL, trata os dados e os apresenta em um dashboard. Alem disso na Cogna e na Data Strategy trabalho com preocesso straming de tratamento de dados, extraindo os dados do SAP e os enviando para uma arquitetura desenvolvida na AWS."
   ]
  },
  {
   "cell_type": "markdown",
   "id": "1c1c3f10",
   "metadata": {
    "id": "1c1c3f10"
   },
   "source": [
    "**Questão 3** - Quais são as camadas de um Data Lake?"
   ]
  },
  {
   "cell_type": "markdown",
   "id": "GXrIlsX4su7Q",
   "metadata": {
    "id": "GXrIlsX4su7Q"
   },
   "source": [
    "Um data lake geralmente é composto por tres camadas que ganham diferentes nomeclaturas de acordo com seus gestores.\n",
    "\n",
    "1 - Transient , stagging , landing: É a camada onde os dados brutos aterrissam com pouco ou quase nenhum tratamento\n",
    "\n",
    "2 - Raw: Os dados são tratados e homogenizados.\n",
    "\n",
    "3 - Integration ou trusted (zona confiavel): Aqui os dados já foram tratados e homogenizados agora a  a necessidade de validar a qualidade dos dados."
   ]
  },
  {
   "cell_type": "markdown",
   "id": "62477089",
   "metadata": {
    "id": "62477089"
   },
   "source": [
    "**Questão 4** - Quais as diferenças de um Data Lake e um DW?"
   ]
  },
  {
   "cell_type": "markdown",
   "id": "Ue2lGEz0r6Ju",
   "metadata": {
    "id": "Ue2lGEz0r6Ju"
   },
   "source": [
    "Data Lake é o repositorio de dados massissos sem tratativas, que apos passarem pelo processo de ETL é convertido em um Data Warehouse (DW). A diferença se da tanto na modelagem dos dados onde um DW é apresentado em fatos e dimensoes enquando um data lake pode ser apresentado de n formas, quando nos dados, no qual em um data lake não ha necessidade de uma homogenização dos dados, enquanto no DW os dados preferencialmente devem ser homogenizados."
   ]
  },
  {
   "cell_type": "markdown",
   "id": "7099a05e",
   "metadata": {
    "id": "7099a05e"
   },
   "source": [
    "**Questão 5** - O que é arquitetura Lambda e Kappa? Descreva com suas palavras."
   ]
  },
  {
   "cell_type": "markdown",
   "id": "XbTRn42-rbf2",
   "metadata": {
    "id": "XbTRn42-rbf2"
   },
   "source": [
    "São arquiteturas que apresentam tratativas de processamento para dados de alta e baixa prioridade de processamento. Enquanto a Lambda propoem dois caminhos distintos para o processamento, com requesitos de latencia diferentes, o Kappa propoe que os dados passem pelo mesmo caminho no entanto obedecendo os criterios de prioridade."
   ]
  },
  {
   "cell_type": "markdown",
   "id": "6e3d483e",
   "metadata": {
    "id": "6e3d483e"
   },
   "source": [
    "**Questão 6** - O que é Data Quality para você e como você implementa isso nos seus processos?"
   ]
  },
  {
   "cell_type": "markdown",
   "id": "CkqbzlyrqurZ",
   "metadata": {
    "id": "CkqbzlyrqurZ"
   },
   "source": [
    "Data Quality como o proprio nome infere é a validação da qualidade e da confiabilidade dos dados os quais estou tratando. Sempre procuro analizar os dados a fim de verificar se não ha anomalias. Uma boa tecnica é verificar o desvio padrão de amostras de dados numericos."
   ]
  },
  {
   "cell_type": "markdown",
   "id": "bd4834d6",
   "metadata": {
    "id": "bd4834d6"
   },
   "source": [
    "**Questão 7** - Em uma escala de 0 a 10, qual seria seu nível de experiência com PySpark?"
   ]
  },
  {
   "cell_type": "markdown",
   "id": "ZMowrwgiqIR4",
   "metadata": {
    "id": "ZMowrwgiqIR4"
   },
   "source": [
    "Considero que tenho muito mais experiencia utilizando Pandas que PySpark, porem tenho um amplo conhecimento, já desenvolvi pipelines que ainda rodam em produção durante a minha estadia no IST bem como na DataStrategy e na Cogna trabalho conrinuamente com PySpark. Considero em uma escala de 0 a 10 que tenho 6 de experiencia com PySpark"
   ]
  },
  {
   "cell_type": "markdown",
   "id": "66ef78ba",
   "metadata": {
    "id": "66ef78ba"
   },
   "source": [
    "**Questão 8** - Em uma escala de 0 a 10, qual seria seu nível de experiência com SQL?"
   ]
  },
  {
   "cell_type": "markdown",
   "id": "egM64hT_p5cX",
   "metadata": {
    "id": "egM64hT_p5cX"
   },
   "source": [
    "De 0 a 10 considero que tenho 7 de experiencia com SQL."
   ]
  },
  {
   "cell_type": "markdown",
   "id": "5e5f7ee6",
   "metadata": {
    "id": "5e5f7ee6"
   },
   "source": [
    "**Questão 9** - Descreva suas expeciências com banco de dados SQL e NoSQL."
   ]
  },
  {
   "cell_type": "markdown",
   "id": "YHbiqsXpoc5Y",
   "metadata": {
    "id": "YHbiqsXpoc5Y"
   },
   "source": [
    "SQL: Já trabalhei e desenvolvi projetos com Oracle (PL/SQL) , SQL Server (Transact), Postesgress, Firebird, Sqlite, MySql. Tenho experiencia desde 2014 com SQL.\n",
    "\n",
    "NoSQL: Já desenvolvi projetos com Mongo DB, outras tecnologias como Cassandra tive contato apenas acabemico.\n",
    "\n",
    "Em todas as tecnologias utilizei juntamente linguagens como Java, React Native, Python e C++."
   ]
  },
  {
   "cell_type": "markdown",
   "id": "ef2fa6e5",
   "metadata": {
    "id": "ef2fa6e5"
   },
   "source": [
    "**Questão 10** - Tem experiência com versionamento de código? Com quais ferramentas já trabalhou? Descreva."
   ]
  },
  {
   "cell_type": "markdown",
   "id": "lsHAUyX7oKn6",
   "metadata": {
    "id": "lsHAUyX7oKn6"
   },
   "source": [
    "Sim, já trabalhei com github, bitbucket e azure devops, todas usando git, tambem já trabalhei com versionamento e manutenção de servidores privados porem open source como o gitblit."
   ]
  },
  {
   "cell_type": "markdown",
   "id": "efe2714f",
   "metadata": {
    "id": "efe2714f"
   },
   "source": [
    "**Questão 11** - Tem experiência em desenvolvimento em cloud? Se sim, especifique a(s) plataforma(s) que já trabalhou e suas principais implementações e conhecimentos em cada serviço."
   ]
  },
  {
   "cell_type": "markdown",
   "id": "SXt3CxcwnGWq",
   "metadata": {
    "id": "SXt3CxcwnGWq"
   },
   "source": [
    "Sim, já trabalhei com AWS durante a minha estadia no IST, na DataStrategy e na Cogna (ec2,Elastic Beanstalk, s3, athena, cloud9, EMR, Lambda, StepFuntions'). E já trabalhei com cloud em um serviço proprietario da Totvs (Cofre) famoso por hospedar clientes como Boticario."
   ]
  },
  {
   "cell_type": "markdown",
   "id": "af9bc70d",
   "metadata": {
    "id": "af9bc70d"
   },
   "source": [
    "**Questão 12** - Tem experiência com metodologia ágil? Qual?"
   ]
  },
  {
   "cell_type": "markdown",
   "id": "alXkYHLqm3xq",
   "metadata": {
    "id": "alXkYHLqm3xq"
   },
   "source": [
    "Sim, já trabalhei com o Scrum e Kanbam na Totvs, bem como na DataStrategy. Geralmente aplico uma metodologia mista de scrum e kanbam em minhas atividades pessoais. Tenho experiencia com diversas ferramentas como o Trail e Jira, bem como ferramentas mais simples como Planner e Trello. "
   ]
  },
  {
   "cell_type": "markdown",
   "id": "1eb61f06",
   "metadata": {
    "id": "1eb61f06"
   },
   "source": [
    "# TESTE PRÁTICO"
   ]
  },
  {
   "cell_type": "markdown",
   "id": "8ed8c6a5",
   "metadata": {
    "id": "8ed8c6a5"
   },
   "source": [
    "**Problema 1**: Você está recebendo o arquivo 'dados_cadastrais_fake.csv' que contem dados cadastrais de clientes, mas para que análises ou relatórios sejam feitos é necessário limpar e normalizar os dados. Além disso, existe uma coluna com o número de cpf e outra com cnpj, você precisará padronizar deixando apenas dígitos em formato string (sem caracteres especiais), implementar uma forma de verificar se tais documentos são válidos sendo que a informação deve se adicionada ao dataframe em outras duas novas colunas.\n",
    "\n",
    "Após a normalização, gere reports que respondam as seguintes perguntas:\n",
    "- Quantos clientes temos nessa base?\n",
    "- Qual a média de idade dos clientes?\n",
    "- Quantos clientes nessa base pertencem a cada estado?\n",
    "- Quantos CPFs válidos e inválidos foram encontrados?\n",
    "- Quantos CNPJs válidos e inválidos foram encontrados?\n",
    "\n",
    "Ao final gere um arquivo no formato csv e um outro arquivo no formato parquet chamado (problema1_normalizado), eles serão destinados para pessoas distintas.\n",
    "\n",
    "*EXTRA:* executar as mesmas validações no *1E8.csv.gz"
   ]
  },
  {
   "cell_type": "code",
   "execution_count": 6,
   "id": "55006d64",
   "metadata": {},
   "outputs": [
    {
     "ename": "SyntaxError",
     "evalue": "invalid syntax (Temp/ipykernel_25728/11617287.py, line 1)",
     "output_type": "error",
     "traceback": [
      "\u001b[1;36m  File \u001b[1;32m\"C:\\Users\\LUCAS~1.RSO\\AppData\\Local\\Temp/ipykernel_25728/11617287.py\"\u001b[1;36m, line \u001b[1;32m1\u001b[0m\n\u001b[1;33m    pip install tqdm\u001b[0m\n\u001b[1;37m        ^\u001b[0m\n\u001b[1;31mSyntaxError\u001b[0m\u001b[1;31m:\u001b[0m invalid syntax\n"
     ]
    }
   ],
   "source": [
    "! pip install tqdm\n"
   ]
  },
  {
   "cell_type": "code",
   "execution_count": 1,
   "id": "3b1b6c2d",
   "metadata": {
    "id": "3b1b6c2d"
   },
   "outputs": [
    {
     "ename": "ModuleNotFoundError",
     "evalue": "No module named 'tqdm'",
     "output_type": "error",
     "traceback": [
      "\u001b[1;31m---------------------------------------------------------------------------\u001b[0m",
      "\u001b[1;31mModuleNotFoundError\u001b[0m                       Traceback (most recent call last)",
      "\u001b[1;32mC:\\Users\\LUCAS~1.RSO\\AppData\\Local\\Temp/ipykernel_25728/3216235029.py\u001b[0m in \u001b[0;36m<module>\u001b[1;34m\u001b[0m\n\u001b[0;32m      2\u001b[0m \u001b[1;32mimport\u001b[0m \u001b[0mre\u001b[0m\u001b[1;33m\u001b[0m\u001b[1;33m\u001b[0m\u001b[0m\n\u001b[0;32m      3\u001b[0m \u001b[1;32mimport\u001b[0m \u001b[0municodedata\u001b[0m\u001b[1;33m\u001b[0m\u001b[1;33m\u001b[0m\u001b[0m\n\u001b[1;32m----> 4\u001b[1;33m \u001b[1;32mfrom\u001b[0m \u001b[0mtqdm\u001b[0m \u001b[1;32mimport\u001b[0m \u001b[0mtqdm\u001b[0m\u001b[1;33m\u001b[0m\u001b[1;33m\u001b[0m\u001b[0m\n\u001b[0m\u001b[0;32m      5\u001b[0m \u001b[1;32mimport\u001b[0m \u001b[0mrequests\u001b[0m\u001b[1;33m\u001b[0m\u001b[1;33m\u001b[0m\u001b[0m\n\u001b[0;32m      6\u001b[0m \u001b[1;32mimport\u001b[0m \u001b[0mos\u001b[0m\u001b[1;33m\u001b[0m\u001b[1;33m\u001b[0m\u001b[0m\n",
      "\u001b[1;31mModuleNotFoundError\u001b[0m: No module named 'tqdm'"
     ]
    }
   ],
   "source": [
    "import pandas as pd\n",
    "import re\n",
    "import unicodedata\n",
    "from tqdm import tqdm\n",
    "import requests\n",
    "import os\n",
    "from datetime import datetime\n",
    "import numpy as np"
   ]
  },
  {
   "cell_type": "code",
   "execution_count": null,
   "id": "A5xHSaw9BJLU",
   "metadata": {
    "id": "A5xHSaw9BJLU"
   },
   "outputs": [],
   "source": [
    "def verificaDocumento(numero):\n",
    "  if len(numero)==11:\n",
    "\n",
    "    cpf = ''.join(re.findall('\\d', str(numero)))\n",
    "    \n",
    "    if (not cpf) or (len(cpf) < 11):\n",
    "        return False\n",
    "    inteiros = list(map(int, cpf))\n",
    "    novo = inteiros[:9]\n",
    "    while len(novo) < 11:\n",
    "        r = sum([(len(novo)+1-i)*v for i,v in enumerate(novo)]) % 11\n",
    "        if r > 1:\n",
    "            f = 11 - r\n",
    "        else:\n",
    "            f = 0\n",
    "        novo.append(f)\n",
    "    if novo == inteiros:\n",
    "        return True\n",
    "  elif len(numero)==14:\n",
    "    cnpj = ''.join(re.findall('\\d', str(numero)))\n",
    "    if (not cnpj) or (len(cnpj) < 14):\n",
    "        return False\n",
    "    inteiros = list(map(int, cnpj))\n",
    "    novo = inteiros[:12]\n",
    "\n",
    "    prod = [5, 4, 3, 2, 9, 8, 7, 6, 5, 4, 3, 2]\n",
    "    while len(novo) < 14:\n",
    "        r = sum([x*y for (x, y) in zip(novo, prod)]) % 11\n",
    "        if r > 1:\n",
    "            f = 11 - r\n",
    "        else:\n",
    "            f = 0\n",
    "        novo.append(f)\n",
    "        prod.insert(0, 6)\n",
    "    if novo == inteiros:\n",
    "        return True\n",
    "  return False\n"
   ]
  },
  {
   "cell_type": "code",
   "execution_count": 2,
   "id": "V2FkYBSNUV4W",
   "metadata": {
    "id": "V2FkYBSNUV4W"
   },
   "outputs": [],
   "source": [
    "def normatizaUF(uf):\n",
    "  if len(uf)>2:\n",
    "    uf = ''.join(caracter for caracter in unicodedata.normalize('NFKD', uf) \n",
    "    if not unicodedata.combining(caracter)).replace(' ','').upper()\n",
    "    \n",
    "    listReplace = [['AC','ACRE'], ['AL','ALAGOAS'], ['AP','AMAPA'], ['AM','AMAZONAS'], \n",
    "    ['BA','BAHIA'], ['CE','CEARA'],['ES','ESPIRITOSANTO'], ['GO','GOIAS'], ['MA','MARANHAO'], \n",
    "    ['MT','MATOGROSSO'], ['MS','MATOGROSSODOSUL'], ['MG','MINASGERAIS'],['PA','PARA'], \n",
    "    ['PB','PARAIBA'], ['PR','PARANA'], ['PE','PERNAMBUCO'],['PI','PIAUI'],['RJ','RIODEJANEIRO'],\n",
    "    ['RN','RIOGRANDEDONORTE'], ['RS','RIOGRANDEDOSUL'],['RO','RONDONIA'], ['RR','RORAIMA'],\n",
    "    ['SC','SANTACATARINA'], ['SP','SAOPAULO'],['SE','SERGIPE'], ['TO','TOCANTINS'],\n",
    "    ['DF','DISTRITOFEDERAL']]\n",
    "\n",
    "    for sigla,estado in listReplace:\n",
    "      if uf in estado:\n",
    "        return sigla\n",
    "    print(uf)\n",
    "  else:\n",
    "    return uf.upper()\n",
    "    \n",
    "  \n",
    "  "
   ]
  },
  {
   "cell_type": "code",
   "execution_count": 3,
   "id": "s0GVCpQDxQKH",
   "metadata": {
    "id": "s0GVCpQDxQKH"
   },
   "outputs": [],
   "source": [
    "def homogenizaDocumento(numDoc):\n",
    "  if len(numDoc) == 11:\n",
    "    return '{}{}{}.{}{}{}.{}{}{}-{}{}'.format(*numDoc)\n",
    "  elif len(numDoc) == 14:\n",
    "    return '{}{}.{}{}{}.{}{}{}/{}{}{}{}-{}{}'.format(*numDoc)\n",
    "  else:\n",
    "    print(numdoc)\n",
    "    return numdoc"
   ]
  },
  {
   "cell_type": "code",
   "execution_count": 5,
   "id": "ea5sKKHz6N8J",
   "metadata": {
    "id": "ea5sKKHz6N8J"
   },
   "outputs": [
    {
     "ename": "NameError",
     "evalue": "name 'np' is not defined",
     "output_type": "error",
     "traceback": [
      "\u001b[1;31m---------------------------------------------------------------------------\u001b[0m",
      "\u001b[1;31mNameError\u001b[0m                                 Traceback (most recent call last)",
      "\u001b[1;32mC:\\Users\\LUCAS~1.RSO\\AppData\\Local\\Temp/ipykernel_25728/3521078860.py\u001b[0m in \u001b[0;36m<module>\u001b[1;34m\u001b[0m\n\u001b[0;32m      4\u001b[0m               'cpf':\"NUM_CPF\",'cnpj':\"NUM_CNPJ\"}\n\u001b[0;32m      5\u001b[0m \u001b[0mdados\u001b[0m\u001b[1;33m.\u001b[0m\u001b[0mrename\u001b[0m\u001b[1;33m(\u001b[0m\u001b[0mrenameDict\u001b[0m\u001b[1;33m,\u001b[0m \u001b[0maxis\u001b[0m\u001b[1;33m=\u001b[0m\u001b[1;36m1\u001b[0m\u001b[1;33m,\u001b[0m \u001b[0minplace\u001b[0m\u001b[1;33m=\u001b[0m\u001b[1;32mTrue\u001b[0m\u001b[1;33m)\u001b[0m\u001b[1;33m\u001b[0m\u001b[1;33m\u001b[0m\u001b[0m\n\u001b[1;32m----> 6\u001b[1;33m \u001b[0marray\u001b[0m \u001b[1;33m=\u001b[0m \u001b[0mnp\u001b[0m\u001b[1;33m.\u001b[0m\u001b[0marange\u001b[0m\u001b[1;33m(\u001b[0m\u001b[0mlen\u001b[0m\u001b[1;33m(\u001b[0m\u001b[0mdados\u001b[0m\u001b[1;33m)\u001b[0m\u001b[1;33m)\u001b[0m\u001b[1;33m\u001b[0m\u001b[1;33m\u001b[0m\u001b[0m\n\u001b[0m\u001b[0;32m      7\u001b[0m \u001b[0mdados\u001b[0m\u001b[1;33m[\u001b[0m\u001b[1;34m'ID'\u001b[0m\u001b[1;33m]\u001b[0m \u001b[1;33m=\u001b[0m \u001b[0marray\u001b[0m\u001b[1;33m\u001b[0m\u001b[1;33m\u001b[0m\u001b[0m\n\u001b[0;32m      8\u001b[0m \u001b[0mdados\u001b[0m \u001b[1;33m=\u001b[0m \u001b[0mdados\u001b[0m\u001b[1;33m.\u001b[0m\u001b[0mset_index\u001b[0m\u001b[1;33m(\u001b[0m\u001b[1;34m'ID'\u001b[0m\u001b[1;33m)\u001b[0m\u001b[1;33m\u001b[0m\u001b[1;33m\u001b[0m\u001b[0m\n",
      "\u001b[1;31mNameError\u001b[0m: name 'np' is not defined"
     ]
    }
   ],
   "source": [
    "dados = pd.read_csv(\"dados_cadastrais_fake.csv\",sep = ';')\n",
    "renameDict = {'nomes': 'NOM_CLIENTE', 'idade': 'VLR_IDADE',\n",
    "              'cidade': 'NOM_CIDADE', 'estado': 'SGL_UF',\n",
    "              'cpf':\"NUM_CPF\",'cnpj':\"NUM_CNPJ\"}\n",
    "dados.rename(renameDict, axis=1, inplace=True)\n",
    "array = np.arange(len(dados))\n",
    "dados['ID'] = array\n",
    "dados = dados.set_index('ID')\n",
    "dadosdict = dados.to_dict('records')\n",
    "for row in tqdm(dadosdict):\n",
    "    cpf = row['NUM_CPF'].replace('.','').replace('-','').replace('/','').replace('\\\\','')\n",
    "    cnpj = row['NUM_CNPJ'].replace('.','').replace('-','').replace('/','').replace('\\\\','')\n",
    "    row['NUM_CPF'] = homogenizaDocumento(cpf)\n",
    "    row['FLAG_CPF_VALIDO'] = verificaDocumento(cpf)\n",
    "    row['NUM_CNPJ'] = homogenizaDocumento(cnpj)\n",
    "    row['FLAG_CNPJ_VALIDO'] = verificaDocumento(cnpj)\n",
    "    row['SGL_UF'] = normatizaUF(row['SGL_UF'])\n",
    "\n",
    "dados = pd.DataFrame(dadosdict)"
   ]
  },
  {
   "cell_type": "markdown",
   "id": "XSHYjIs5hm-N",
   "metadata": {
    "id": "XSHYjIs5hm-N"
   },
   "source": [
    "**1:** Report da analise do dataframe"
   ]
  },
  {
   "cell_type": "code",
   "execution_count": 5,
   "id": "3cJGcEunXAgN",
   "metadata": {
    "colab": {
     "base_uri": "https://localhost:8080/",
     "height": 235
    },
    "id": "3cJGcEunXAgN",
    "outputId": "a0170ee1-2774-4bdd-e4b8-2a67cd082a4b"
   },
   "outputs": [
    {
     "data": {
      "text/html": [
       "<div>\n",
       "<style scoped>\n",
       "    .dataframe tbody tr th:only-of-type {\n",
       "        vertical-align: middle;\n",
       "    }\n",
       "\n",
       "    .dataframe tbody tr th {\n",
       "        vertical-align: top;\n",
       "    }\n",
       "\n",
       "    .dataframe thead th {\n",
       "        text-align: right;\n",
       "    }\n",
       "</style>\n",
       "<table border=\"1\" class=\"dataframe\">\n",
       "  <thead>\n",
       "    <tr style=\"text-align: right;\">\n",
       "      <th></th>\n",
       "      <th>0</th>\n",
       "    </tr>\n",
       "  </thead>\n",
       "  <tbody>\n",
       "    <tr>\n",
       "      <th>Quantidade de Clientes</th>\n",
       "      <td>10000</td>\n",
       "    </tr>\n",
       "    <tr>\n",
       "      <th>Media de idade dos clientes</th>\n",
       "      <td>53.78</td>\n",
       "    </tr>\n",
       "    <tr>\n",
       "      <th>CPF's validos</th>\n",
       "      <td>10000</td>\n",
       "    </tr>\n",
       "    <tr>\n",
       "      <th>CPF's invalidos</th>\n",
       "      <td>0</td>\n",
       "    </tr>\n",
       "    <tr>\n",
       "      <th>CNPJ's validos</th>\n",
       "      <td>10000</td>\n",
       "    </tr>\n",
       "    <tr>\n",
       "      <th>CNPJ's invalidos</th>\n",
       "      <td>0</td>\n",
       "    </tr>\n",
       "  </tbody>\n",
       "</table>\n",
       "</div>"
      ],
      "text/plain": [
       "                                 0\n",
       "Quantidade de Clientes       10000\n",
       "Media de idade dos clientes  53.78\n",
       "CPF's validos                10000\n",
       "CPF's invalidos                  0\n",
       "CNPJ's validos               10000\n",
       "CNPJ's invalidos                 0"
      ]
     },
     "metadata": {},
     "output_type": "display_data"
    }
   ],
   "source": [
    "countClientes = dados[dados.columns[0]].count()\n",
    "avgIdade = dados[\"VLR_IDADE\"].mean()\n",
    "cpfsValidos = dados[dados[\"FLAG_CPF_VALIDO\"]==True].count()[\"FLAG_CPF_VALIDO\"]\n",
    "cnpjsValidos = dados[dados[\"FLAG_CNPJ_VALIDO\"]==True].count()[\"FLAG_CNPJ_VALIDO\"]\n",
    "report = {\"Quantidade de Clientes\": [int(countClientes)],\n",
    "          \"Media de idade dos clientes\": ['%.2f' % float(avgIdade)],\n",
    "          \"CPF's validos\": [int(cpfsValidos)] ,\n",
    "          \"CPF's invalidos\":[int(countClientes-cpfsValidos)],\n",
    "          \"CNPJ's validos\": [int(cnpjsValidos)],\n",
    "          \"CNPJ's invalidos\": [int(countClientes-cnpjsValidos)]\n",
    "          }\n",
    "dfReport = pd.DataFrame(report).T\n",
    "display(dfReport)"
   ]
  },
  {
   "cell_type": "markdown",
   "id": "ZaGGkbgThwdX",
   "metadata": {
    "id": "ZaGGkbgThwdX"
   },
   "source": [
    "**2:** Clientes por estado"
   ]
  },
  {
   "cell_type": "code",
   "execution_count": 6,
   "id": "PhFl8XfQXP1h",
   "metadata": {
    "colab": {
     "base_uri": "https://localhost:8080/",
     "height": 886
    },
    "id": "PhFl8XfQXP1h",
    "outputId": "ab877066-ecad-4011-c410-c017b1614250"
   },
   "outputs": [
    {
     "data": {
      "text/html": [
       "<div>\n",
       "<style scoped>\n",
       "    .dataframe tbody tr th:only-of-type {\n",
       "        vertical-align: middle;\n",
       "    }\n",
       "\n",
       "    .dataframe tbody tr th {\n",
       "        vertical-align: top;\n",
       "    }\n",
       "\n",
       "    .dataframe thead th {\n",
       "        text-align: right;\n",
       "    }\n",
       "</style>\n",
       "<table border=\"1\" class=\"dataframe\">\n",
       "  <thead>\n",
       "    <tr style=\"text-align: right;\">\n",
       "      <th></th>\n",
       "      <th>SGL_UF</th>\n",
       "      <th>N° Clientes</th>\n",
       "    </tr>\n",
       "  </thead>\n",
       "  <tbody>\n",
       "    <tr>\n",
       "      <th>0</th>\n",
       "      <td>AC</td>\n",
       "      <td>371</td>\n",
       "    </tr>\n",
       "    <tr>\n",
       "      <th>1</th>\n",
       "      <td>AL</td>\n",
       "      <td>371</td>\n",
       "    </tr>\n",
       "    <tr>\n",
       "      <th>2</th>\n",
       "      <td>AM</td>\n",
       "      <td>371</td>\n",
       "    </tr>\n",
       "    <tr>\n",
       "      <th>3</th>\n",
       "      <td>AP</td>\n",
       "      <td>371</td>\n",
       "    </tr>\n",
       "    <tr>\n",
       "      <th>4</th>\n",
       "      <td>BA</td>\n",
       "      <td>371</td>\n",
       "    </tr>\n",
       "    <tr>\n",
       "      <th>5</th>\n",
       "      <td>CE</td>\n",
       "      <td>371</td>\n",
       "    </tr>\n",
       "    <tr>\n",
       "      <th>6</th>\n",
       "      <td>DF</td>\n",
       "      <td>371</td>\n",
       "    </tr>\n",
       "    <tr>\n",
       "      <th>7</th>\n",
       "      <td>ES</td>\n",
       "      <td>371</td>\n",
       "    </tr>\n",
       "    <tr>\n",
       "      <th>8</th>\n",
       "      <td>GO</td>\n",
       "      <td>371</td>\n",
       "    </tr>\n",
       "    <tr>\n",
       "      <th>9</th>\n",
       "      <td>MA</td>\n",
       "      <td>371</td>\n",
       "    </tr>\n",
       "    <tr>\n",
       "      <th>10</th>\n",
       "      <td>MG</td>\n",
       "      <td>370</td>\n",
       "    </tr>\n",
       "    <tr>\n",
       "      <th>11</th>\n",
       "      <td>MS</td>\n",
       "      <td>370</td>\n",
       "    </tr>\n",
       "    <tr>\n",
       "      <th>12</th>\n",
       "      <td>MT</td>\n",
       "      <td>370</td>\n",
       "    </tr>\n",
       "    <tr>\n",
       "      <th>13</th>\n",
       "      <td>PA</td>\n",
       "      <td>370</td>\n",
       "    </tr>\n",
       "    <tr>\n",
       "      <th>14</th>\n",
       "      <td>PB</td>\n",
       "      <td>370</td>\n",
       "    </tr>\n",
       "    <tr>\n",
       "      <th>15</th>\n",
       "      <td>PE</td>\n",
       "      <td>370</td>\n",
       "    </tr>\n",
       "    <tr>\n",
       "      <th>16</th>\n",
       "      <td>PI</td>\n",
       "      <td>370</td>\n",
       "    </tr>\n",
       "    <tr>\n",
       "      <th>17</th>\n",
       "      <td>PR</td>\n",
       "      <td>370</td>\n",
       "    </tr>\n",
       "    <tr>\n",
       "      <th>18</th>\n",
       "      <td>RJ</td>\n",
       "      <td>370</td>\n",
       "    </tr>\n",
       "    <tr>\n",
       "      <th>19</th>\n",
       "      <td>RN</td>\n",
       "      <td>370</td>\n",
       "    </tr>\n",
       "    <tr>\n",
       "      <th>20</th>\n",
       "      <td>RO</td>\n",
       "      <td>370</td>\n",
       "    </tr>\n",
       "    <tr>\n",
       "      <th>21</th>\n",
       "      <td>RR</td>\n",
       "      <td>370</td>\n",
       "    </tr>\n",
       "    <tr>\n",
       "      <th>22</th>\n",
       "      <td>RS</td>\n",
       "      <td>370</td>\n",
       "    </tr>\n",
       "    <tr>\n",
       "      <th>23</th>\n",
       "      <td>SC</td>\n",
       "      <td>370</td>\n",
       "    </tr>\n",
       "    <tr>\n",
       "      <th>24</th>\n",
       "      <td>SE</td>\n",
       "      <td>370</td>\n",
       "    </tr>\n",
       "    <tr>\n",
       "      <th>25</th>\n",
       "      <td>SP</td>\n",
       "      <td>370</td>\n",
       "    </tr>\n",
       "    <tr>\n",
       "      <th>26</th>\n",
       "      <td>TO</td>\n",
       "      <td>370</td>\n",
       "    </tr>\n",
       "  </tbody>\n",
       "</table>\n",
       "</div>"
      ],
      "text/plain": [
       "   SGL_UF  N° Clientes\n",
       "0      AC          371\n",
       "1      AL          371\n",
       "2      AM          371\n",
       "3      AP          371\n",
       "4      BA          371\n",
       "5      CE          371\n",
       "6      DF          371\n",
       "7      ES          371\n",
       "8      GO          371\n",
       "9      MA          371\n",
       "10     MG          370\n",
       "11     MS          370\n",
       "12     MT          370\n",
       "13     PA          370\n",
       "14     PB          370\n",
       "15     PE          370\n",
       "16     PI          370\n",
       "17     PR          370\n",
       "18     RJ          370\n",
       "19     RN          370\n",
       "20     RO          370\n",
       "21     RR          370\n",
       "22     RS          370\n",
       "23     SC          370\n",
       "24     SE          370\n",
       "25     SP          370\n",
       "26     TO          370"
      ]
     },
     "metadata": {},
     "output_type": "display_data"
    }
   ],
   "source": [
    "clientesUf = dados.groupby(['SGL_UF']).size().reset_index(name='N° Clientes')\n",
    "display(clientesUf)"
   ]
  },
  {
   "cell_type": "code",
   "execution_count": 7,
   "id": "PKT4cq4RagL_",
   "metadata": {
    "id": "PKT4cq4RagL_"
   },
   "outputs": [],
   "source": [
    "path_Inicial = '/Problema1'\n",
    "if not os.path.isdir(path_Inicial):\n",
    "    os.makedirs(path_Inicial)\n",
    "dados.to_csv(path_Inicial+'/problema1_normalizado.csv', sep=';', encoding='utf-8')\n",
    "dados.to_parquet(path_Inicial+'/problema1_normalizado.parquet')"
   ]
  },
  {
   "cell_type": "markdown",
   "id": "a2da9c40",
   "metadata": {
    "id": "a2da9c40"
   },
   "source": [
    "**Problema 2**: Você deverá implementar um programa, para ler, tratar e particionar os dados.\n",
    "\n",
    "O arquivo fonte está disponível em `https://st-it-cloud-public.s3.amazonaws.com/people-v2_1E6.csv.gz`\n",
    "\n",
    "### Data Quality\n",
    "\n",
    "- Higienizar e homogenizar o formato da coluna `document`\n",
    "- Detectar através da coluna `document` se o registro é de uma Pessoa Física ou Pessoa Jurídica, adicionando uma coluna com essa informação\n",
    "- Higienizar e homogenizar o formato da coluna `birthDate`\n",
    "- Existem duas colunas nesse dataset que em alguns registros estão trocadas. Quais são essas colunas? \n",
    "- Corrigir os dados com as colunas trocadas\n",
    "- Além desses pontos, existem outras tratamentos para homogenizar esse dataset. Aplique todos que conseguir.\n",
    "\n",
    "### Agregação dos dados\n",
    "\n",
    "- Quais são as 5 PF que mais gastaram (`totalSpent`)? \n",
    "- Qual é o valor de gasto médio por estado (`state`)?\n",
    "- Qual é o valor de gasto médio por `jobArea`?\n",
    "- Qual é a PF que gastou menos (`totalSpent`)?\n",
    "- Quantos nomes e documentos repetidos existem nesse dataset?\n",
    "- Quantas linhas existem nesse dataset?\n",
    "\n",
    "### Particionamento de dados tratados com as regras descritas em `DATA QUALITY`\n",
    "\n",
    "- Particionar em arquivos PARQUET por estado (`state`)\n",
    "- Particionar em arquivos CSV por ano/mes/dia de nascimento (`birthDate`)"
   ]
  },
  {
   "cell_type": "markdown",
   "id": "TmCTfO6_FhQk",
   "metadata": {
    "id": "TmCTfO6_FhQk"
   },
   "source": [
    "### Data Quality\n"
   ]
  },
  {
   "cell_type": "code",
   "execution_count": null,
   "id": "2277f816",
   "metadata": {
    "id": "2277f816"
   },
   "outputs": [],
   "source": [
    "#dowload arquivo\n",
    "response = requests.get(\"https://st-it-cloud-public.s3.amazonaws.com/people-v2_1E6.csv.gz\", stream=True)\n",
    "\n",
    "with open(\"people-v2_1E6.csv.gz\", \"wb\") as handle:\n",
    "    for data in tqdm(response.iter_content()):\n",
    "        handle.write(data)\n",
    "\n",
    "#descompactar arquivo\n",
    "os.system( '7z x people-v2_1E6.csv.gz -o/content' )"
   ]
  },
  {
   "cell_type": "code",
   "execution_count": 11,
   "id": "1KjD9tYeCtd_",
   "metadata": {
    "id": "1KjD9tYeCtd_"
   },
   "outputs": [],
   "source": [
    "#importar arquivo\n",
    "dados = pd.read_csv(\"/content/people-v2_1E6.csv\",sep = ';')\n",
    "array = np.arange(len(dados))\n",
    "renameDict = {'document': 'NUM_DOCUMENTO', 'name': 'NOM_CLIENTE',\n",
    "              'job':'NOM_CARGO','jobArea':'NOM_AREA_TRABALHO',\n",
    "              'jobType':'NOM_TIPO_TRABALHO','phoneNumber':'NUM_TELEFONE',\n",
    "              'birthDate':\"DATA_ANIVERSARIO\",\n",
    "              'city': 'NOM_CIDADE', 'state': 'SGL_UF',\n",
    "              'totalSpent':'VLR_TOTAL_GASTO'}\n",
    "dados.rename(renameDict, axis=1, inplace=True)\n",
    "dados['ID'] = array\n",
    "dados = dados.set_index('ID')"
   ]
  },
  {
   "cell_type": "code",
   "execution_count": 13,
   "id": "FAxxvjZ_IbE4",
   "metadata": {
    "id": "FAxxvjZ_IbE4"
   },
   "outputs": [],
   "source": [
    "def tipoPessoa(numDoc):\n",
    "  if len(numDoc) == 11:\n",
    "    return 'PF'\n",
    "  elif len(numDoc) == 14:\n",
    "    return 'PJ'\n",
    "  else:\n",
    "    return '-'\n"
   ]
  },
  {
   "cell_type": "code",
   "execution_count": 14,
   "id": "8tdOgZBQK9su",
   "metadata": {
    "id": "8tdOgZBQK9su"
   },
   "outputs": [],
   "source": [
    "def homogenizaData(stringData):\n",
    "  stringData = stringData.replace('.','/').replace(',','/').replace('-','/').replace('\\\\','/').replace(' ','')\n",
    "  dataFormats = ['%d/%m/%Y','%m/%d/%Y','%d/%b/%Y','%b/%d/%Y','%a/%d/%m/%Y','%a/%m/%d/%Y','%a/%d/%b/%Y','%a/%b/%d/%Y',\n",
    "                 '%Y%m%d','%Y%m%d/']\n",
    "  for format in dataFormats:\n",
    "    try:\n",
    "      data = (datetime.strptime(stringData,format )).strftime('%d/%m/%Y')\n",
    "      return data\n",
    "    except:\n",
    "      continue\n",
    "\n"
   ]
  },
  {
   "cell_type": "code",
   "execution_count": 15,
   "id": "eF3O6_eIrVhs",
   "metadata": {
    "id": "eF3O6_eIrVhs"
   },
   "outputs": [],
   "source": [
    "def homogenizaPhoneNumber(texto):\n",
    "  fone = texto.replace('+','').replace('(','').replace(')','').replace('-','').replace(' ','')\n",
    "  if fone.isdigit():\n",
    "    if len(fone) == 13:\n",
    "      return '+{}{} ({}{}) {} {}{}{}{}-{}{}{}{}'.format(*fone)\n",
    "    elif len(fone) == 12:\n",
    "      return '+{}{} ({}{}) {}{}{}{}-{}{}{}{}'.format(*fone)\n",
    "    elif len(fone) == 11:\n",
    "      return '+55 ({}{}) {}{}{}{}-{}{}{}{}'.format(*fone)\n",
    "    elif len(fone) == 10:\n",
    "      return '+55 ({}{}) {}{}{}{}-{}{}{}{}'.format(*fone)\n",
    "    else:\n",
    "      print(fone)\n",
    "  else:\n",
    "    return ''\n",
    "  "
   ]
  },
  {
   "cell_type": "code",
   "execution_count": 21,
   "id": "Wv5q1fPi9WE3",
   "metadata": {
    "colab": {
     "base_uri": "https://localhost:8080/"
    },
    "id": "Wv5q1fPi9WE3",
    "outputId": "65d41d96-86ec-4529-9e7b-18a4a3c4c235"
   },
   "outputs": [
    {
     "name": "stderr",
     "output_type": "stream",
     "text": [
      "100%|██████████| 1000000/1000000 [01:58<00:00, 8414.31it/s]\n"
     ]
    }
   ],
   "source": [
    "#aplica homogenização e correção nos dados\n",
    "dadosdict = dados.to_dict('records')\n",
    "for row in tqdm(dadosdict):\n",
    "  documento = row['NUM_DOCUMENTO'].replace('.','').replace('-','').replace('/','').replace('\\\\','') if not pd.isna(row['NUM_DOCUMENTO']) else ''\n",
    "  telefone = row['NUM_TELEFONE'] if not pd.isna(row['NUM_TELEFONE']) else ''\n",
    "  areaTrabalho = row['NOM_AREA_TRABALHO'] if not pd.isna(row['NOM_AREA_TRABALHO']) else ''\n",
    "  uf = row['SGL_UF'] if not pd.isna(row['SGL_UF']) else ''\n",
    "  dataAniversario = row['DATA_ANIVERSARIO'] if not pd.isna(row['DATA_ANIVERSARIO']) else ''\n",
    "\n",
    "  row['NUM_DOCUMENTO'] = homogenizaDocumento(documento)\n",
    "  row['FLAG_TIPO_PESSOA']= tipoPessoa(documento) \n",
    "  row['FLAG_DOCUMENTO_VALIDO'] = verificaDocumento(documento)\n",
    "  row['DATA_ANIVERSARIO']= homogenizaData(dataAniversario)\n",
    "  row['SGL_UF']=normatizaUF(uf)\n",
    "  if (homogenizaPhoneNumber(telefone) == \"\") and (not homogenizaPhoneNumber(areaTrabalho) == \"\"):\n",
    "    row['NUM_TELEFONE']=homogenizaPhoneNumber(areaTrabalho)\n",
    "    row['NOM_AREA_TRABALHO']=telefone\n",
    "  else:\n",
    "    row['NUM_TELEFONE']=homogenizaPhoneNumber(telefone)\n",
    "  \n",
    "  if not homogenizaPhoneNumber(row['NOM_AREA_TRABALHO'])  == \"\":\n",
    "    row['NOM_AREA_TRABALHO']=''\n",
    "\n",
    "dataframe = pd.DataFrame(dadosdict)\n"
   ]
  },
  {
   "cell_type": "markdown",
   "id": "GTtkWWHTRjbT",
   "metadata": {
    "id": "GTtkWWHTRjbT"
   },
   "source": [
    "### Agregação dos dados\n"
   ]
  },
  {
   "cell_type": "markdown",
   "id": "OVa9gihERTRs",
   "metadata": {
    "id": "OVa9gihERTRs"
   },
   "source": [
    "**1:** 5 Pessoas Fisicas que mais gastaram\n"
   ]
  },
  {
   "cell_type": "code",
   "execution_count": 28,
   "id": "m_KkP4g2C9uK",
   "metadata": {
    "colab": {
     "base_uri": "https://localhost:8080/",
     "height": 394
    },
    "id": "m_KkP4g2C9uK",
    "outputId": "af5a7002-0341-46df-a54e-94e0e285a288"
   },
   "outputs": [
    {
     "data": {
      "text/html": [
       "<div>\n",
       "<style scoped>\n",
       "    .dataframe tbody tr th:only-of-type {\n",
       "        vertical-align: middle;\n",
       "    }\n",
       "\n",
       "    .dataframe tbody tr th {\n",
       "        vertical-align: top;\n",
       "    }\n",
       "\n",
       "    .dataframe thead th {\n",
       "        text-align: right;\n",
       "    }\n",
       "</style>\n",
       "<table border=\"1\" class=\"dataframe\">\n",
       "  <thead>\n",
       "    <tr style=\"text-align: right;\">\n",
       "      <th></th>\n",
       "      <th>NUM_DOCUMENTO</th>\n",
       "      <th>NOM_CLIENTE</th>\n",
       "      <th>NOM_CARGO</th>\n",
       "      <th>NOM_AREA_TRABALHO</th>\n",
       "      <th>NOM_TIPO_TRABALHO</th>\n",
       "      <th>NUM_TELEFONE</th>\n",
       "      <th>DATA_ANIVERSARIO</th>\n",
       "      <th>NOM_CIDADE</th>\n",
       "      <th>SGL_UF</th>\n",
       "      <th>VLR_TOTAL_GASTO</th>\n",
       "      <th>FLAG_TIPO_PESSOA</th>\n",
       "      <th>FLAG_DOCUMENTO_VALIDO</th>\n",
       "    </tr>\n",
       "  </thead>\n",
       "  <tbody>\n",
       "    <tr>\n",
       "      <th>464764</th>\n",
       "      <td>187.416.888-13</td>\n",
       "      <td>Sra. Rocio Martins</td>\n",
       "      <td>Especialista Mobilidade Sênior</td>\n",
       "      <td>Configuração</td>\n",
       "      <td>Supervisor</td>\n",
       "      <td>+55 (45) 9143-5347</td>\n",
       "      <td>06/06/1985</td>\n",
       "      <td>Vania do Descoberto</td>\n",
       "      <td>PA</td>\n",
       "      <td>1000.00</td>\n",
       "      <td>PF</td>\n",
       "      <td>True</td>\n",
       "    </tr>\n",
       "    <tr>\n",
       "      <th>968481</th>\n",
       "      <td>821.908.647-55</td>\n",
       "      <td>Euvanderson Costa</td>\n",
       "      <td>Supervisor Branding Sênior</td>\n",
       "      <td>Branding</td>\n",
       "      <td>Desenvolvedor</td>\n",
       "      <td>+55 (34) 6312-3505</td>\n",
       "      <td>25/10/1965</td>\n",
       "      <td>Grande Kacia</td>\n",
       "      <td>PE</td>\n",
       "      <td>1000.00</td>\n",
       "      <td>PF</td>\n",
       "      <td>True</td>\n",
       "    </tr>\n",
       "    <tr>\n",
       "      <th>4807</th>\n",
       "      <td>589.531.476-70</td>\n",
       "      <td>Valeria Souza</td>\n",
       "      <td>Gerente Paradigma Chefe</td>\n",
       "      <td>Contas</td>\n",
       "      <td>Planejador</td>\n",
       "      <td>+55 (57) 3724-5403</td>\n",
       "      <td>09/02/1970</td>\n",
       "      <td>Ligeria do Descoberto</td>\n",
       "      <td>AL</td>\n",
       "      <td>999.99</td>\n",
       "      <td>PF</td>\n",
       "      <td>True</td>\n",
       "    </tr>\n",
       "    <tr>\n",
       "      <th>233482</th>\n",
       "      <td>171.950.127-00</td>\n",
       "      <td>Regina Melo</td>\n",
       "      <td>Especialista Identidade Frente</td>\n",
       "      <td>Mobilidade</td>\n",
       "      <td>Desenvolvedor</td>\n",
       "      <td></td>\n",
       "      <td>18/07/1962</td>\n",
       "      <td>Martins do Sul</td>\n",
       "      <td>MS</td>\n",
       "      <td>999.99</td>\n",
       "      <td>PF</td>\n",
       "      <td>True</td>\n",
       "    </tr>\n",
       "    <tr>\n",
       "      <th>280776</th>\n",
       "      <td>614.545.514-45</td>\n",
       "      <td>Wandir Martins</td>\n",
       "      <td>NaN</td>\n",
       "      <td>Otimização</td>\n",
       "      <td>Orquestrador</td>\n",
       "      <td>+55 (74) 2431-7486</td>\n",
       "      <td>09/11/1988</td>\n",
       "      <td>Martins de Nossa Senhora</td>\n",
       "      <td>AL</td>\n",
       "      <td>999.99</td>\n",
       "      <td>PF</td>\n",
       "      <td>True</td>\n",
       "    </tr>\n",
       "  </tbody>\n",
       "</table>\n",
       "</div>"
      ],
      "text/plain": [
       "         NUM_DOCUMENTO  ... FLAG_DOCUMENTO_VALIDO\n",
       "464764  187.416.888-13  ...                  True\n",
       "968481  821.908.647-55  ...                  True\n",
       "4807    589.531.476-70  ...                  True\n",
       "233482  171.950.127-00  ...                  True\n",
       "280776  614.545.514-45  ...                  True\n",
       "\n",
       "[5 rows x 12 columns]"
      ]
     },
     "execution_count": 28,
     "metadata": {},
     "output_type": "execute_result"
    }
   ],
   "source": [
    "\n",
    "dataframe.loc[dataframe['FLAG_TIPO_PESSOA'] == 'PF'].nlargest(5,'VLR_TOTAL_GASTO')"
   ]
  },
  {
   "cell_type": "markdown",
   "id": "VGMbZUkeJLe7",
   "metadata": {
    "id": "VGMbZUkeJLe7"
   },
   "source": [
    "**2:** Gasto medio por estado\n"
   ]
  },
  {
   "cell_type": "code",
   "execution_count": 33,
   "id": "kkqgeKvnHqqh",
   "metadata": {
    "colab": {
     "base_uri": "https://localhost:8080/",
     "height": 917
    },
    "id": "kkqgeKvnHqqh",
    "outputId": "125dc605-cf08-41f0-b64f-360d4c81b2a8"
   },
   "outputs": [
    {
     "data": {
      "text/html": [
       "<div>\n",
       "<style scoped>\n",
       "    .dataframe tbody tr th:only-of-type {\n",
       "        vertical-align: middle;\n",
       "    }\n",
       "\n",
       "    .dataframe tbody tr th {\n",
       "        vertical-align: top;\n",
       "    }\n",
       "\n",
       "    .dataframe thead th {\n",
       "        text-align: right;\n",
       "    }\n",
       "</style>\n",
       "<table border=\"1\" class=\"dataframe\">\n",
       "  <thead>\n",
       "    <tr style=\"text-align: right;\">\n",
       "      <th></th>\n",
       "      <th>VLR_TOTAL_GASTO</th>\n",
       "    </tr>\n",
       "    <tr>\n",
       "      <th>SGL_UF</th>\n",
       "      <th></th>\n",
       "    </tr>\n",
       "  </thead>\n",
       "  <tbody>\n",
       "    <tr>\n",
       "      <th>AC</th>\n",
       "      <td>502.478424</td>\n",
       "    </tr>\n",
       "    <tr>\n",
       "      <th>AL</th>\n",
       "      <td>500.515519</td>\n",
       "    </tr>\n",
       "    <tr>\n",
       "      <th>AM</th>\n",
       "      <td>498.770663</td>\n",
       "    </tr>\n",
       "    <tr>\n",
       "      <th>AP</th>\n",
       "      <td>504.259137</td>\n",
       "    </tr>\n",
       "    <tr>\n",
       "      <th>BA</th>\n",
       "      <td>498.774140</td>\n",
       "    </tr>\n",
       "    <tr>\n",
       "      <th>CE</th>\n",
       "      <td>499.300300</td>\n",
       "    </tr>\n",
       "    <tr>\n",
       "      <th>DF</th>\n",
       "      <td>499.107366</td>\n",
       "    </tr>\n",
       "    <tr>\n",
       "      <th>ES</th>\n",
       "      <td>501.631747</td>\n",
       "    </tr>\n",
       "    <tr>\n",
       "      <th>GO</th>\n",
       "      <td>501.292493</td>\n",
       "    </tr>\n",
       "    <tr>\n",
       "      <th>MA</th>\n",
       "      <td>500.435299</td>\n",
       "    </tr>\n",
       "    <tr>\n",
       "      <th>MG</th>\n",
       "      <td>499.532094</td>\n",
       "    </tr>\n",
       "    <tr>\n",
       "      <th>MS</th>\n",
       "      <td>499.509741</td>\n",
       "    </tr>\n",
       "    <tr>\n",
       "      <th>MT</th>\n",
       "      <td>500.264610</td>\n",
       "    </tr>\n",
       "    <tr>\n",
       "      <th>PA</th>\n",
       "      <td>499.230847</td>\n",
       "    </tr>\n",
       "    <tr>\n",
       "      <th>PB</th>\n",
       "      <td>499.200399</td>\n",
       "    </tr>\n",
       "    <tr>\n",
       "      <th>PE</th>\n",
       "      <td>502.405773</td>\n",
       "    </tr>\n",
       "    <tr>\n",
       "      <th>PI</th>\n",
       "      <td>499.076521</td>\n",
       "    </tr>\n",
       "    <tr>\n",
       "      <th>PR</th>\n",
       "      <td>500.644200</td>\n",
       "    </tr>\n",
       "    <tr>\n",
       "      <th>RJ</th>\n",
       "      <td>502.438569</td>\n",
       "    </tr>\n",
       "    <tr>\n",
       "      <th>RN</th>\n",
       "      <td>499.756018</td>\n",
       "    </tr>\n",
       "    <tr>\n",
       "      <th>RO</th>\n",
       "      <td>498.237318</td>\n",
       "    </tr>\n",
       "    <tr>\n",
       "      <th>RR</th>\n",
       "      <td>500.956398</td>\n",
       "    </tr>\n",
       "    <tr>\n",
       "      <th>RS</th>\n",
       "      <td>500.630983</td>\n",
       "    </tr>\n",
       "    <tr>\n",
       "      <th>SC</th>\n",
       "      <td>501.345612</td>\n",
       "    </tr>\n",
       "    <tr>\n",
       "      <th>SE</th>\n",
       "      <td>498.240099</td>\n",
       "    </tr>\n",
       "    <tr>\n",
       "      <th>SP</th>\n",
       "      <td>498.694480</td>\n",
       "    </tr>\n",
       "    <tr>\n",
       "      <th>TO</th>\n",
       "      <td>501.901563</td>\n",
       "    </tr>\n",
       "  </tbody>\n",
       "</table>\n",
       "</div>"
      ],
      "text/plain": [
       "        VLR_TOTAL_GASTO\n",
       "SGL_UF                 \n",
       "AC           502.478424\n",
       "AL           500.515519\n",
       "AM           498.770663\n",
       "AP           504.259137\n",
       "BA           498.774140\n",
       "CE           499.300300\n",
       "DF           499.107366\n",
       "ES           501.631747\n",
       "GO           501.292493\n",
       "MA           500.435299\n",
       "MG           499.532094\n",
       "MS           499.509741\n",
       "MT           500.264610\n",
       "PA           499.230847\n",
       "PB           499.200399\n",
       "PE           502.405773\n",
       "PI           499.076521\n",
       "PR           500.644200\n",
       "RJ           502.438569\n",
       "RN           499.756018\n",
       "RO           498.237318\n",
       "RR           500.956398\n",
       "RS           500.630983\n",
       "SC           501.345612\n",
       "SE           498.240099\n",
       "SP           498.694480\n",
       "TO           501.901563"
      ]
     },
     "metadata": {},
     "output_type": "display_data"
    }
   ],
   "source": [
    "gastoUf = dataframe[['SGL_UF','VLR_TOTAL_GASTO']].groupby(['SGL_UF']).mean()\n",
    "display(gastoUf)"
   ]
  },
  {
   "cell_type": "markdown",
   "id": "i2wcfZZXJ4Oz",
   "metadata": {
    "id": "i2wcfZZXJ4Oz"
   },
   "source": [
    "**3:** Gasto medio por area de trabalho\n"
   ]
  },
  {
   "cell_type": "code",
   "execution_count": 35,
   "id": "djEybg5yJZJU",
   "metadata": {
    "colab": {
     "base_uri": "https://localhost:8080/",
     "height": 1000
    },
    "id": "djEybg5yJZJU",
    "outputId": "5dcd81cc-4407-465d-dc6d-8a3e5ba0e1c5"
   },
   "outputs": [
    {
     "data": {
      "text/html": [
       "<div>\n",
       "<style scoped>\n",
       "    .dataframe tbody tr th:only-of-type {\n",
       "        vertical-align: middle;\n",
       "    }\n",
       "\n",
       "    .dataframe tbody tr th {\n",
       "        vertical-align: top;\n",
       "    }\n",
       "\n",
       "    .dataframe thead th {\n",
       "        text-align: right;\n",
       "    }\n",
       "</style>\n",
       "<table border=\"1\" class=\"dataframe\">\n",
       "  <thead>\n",
       "    <tr style=\"text-align: right;\">\n",
       "      <th></th>\n",
       "      <th>VLR_TOTAL_GASTO</th>\n",
       "    </tr>\n",
       "    <tr>\n",
       "      <th>NOM_AREA_TRABALHO</th>\n",
       "      <th></th>\n",
       "    </tr>\n",
       "  </thead>\n",
       "  <tbody>\n",
       "    <tr>\n",
       "      <th></th>\n",
       "      <td>500.397910</td>\n",
       "    </tr>\n",
       "    <tr>\n",
       "      <th>A infraestrutura</th>\n",
       "      <td>499.722667</td>\n",
       "    </tr>\n",
       "    <tr>\n",
       "      <th>Aplicações</th>\n",
       "      <td>501.907173</td>\n",
       "    </tr>\n",
       "    <tr>\n",
       "      <th>Branding</th>\n",
       "      <td>499.845293</td>\n",
       "    </tr>\n",
       "    <tr>\n",
       "      <th>Comunicações</th>\n",
       "      <td>498.327090</td>\n",
       "    </tr>\n",
       "    <tr>\n",
       "      <th>Configuração</th>\n",
       "      <td>502.580277</td>\n",
       "    </tr>\n",
       "    <tr>\n",
       "      <th>Contas</th>\n",
       "      <td>499.084772</td>\n",
       "    </tr>\n",
       "    <tr>\n",
       "      <th>Criativo</th>\n",
       "      <td>499.669854</td>\n",
       "    </tr>\n",
       "    <tr>\n",
       "      <th>Dados</th>\n",
       "      <td>500.888762</td>\n",
       "    </tr>\n",
       "    <tr>\n",
       "      <th>Diretivas</th>\n",
       "      <td>499.936022</td>\n",
       "    </tr>\n",
       "    <tr>\n",
       "      <th>Divisão</th>\n",
       "      <td>501.003315</td>\n",
       "    </tr>\n",
       "    <tr>\n",
       "      <th>Fatores</th>\n",
       "      <td>498.326736</td>\n",
       "    </tr>\n",
       "    <tr>\n",
       "      <th>Funcionalidade</th>\n",
       "      <td>503.706068</td>\n",
       "    </tr>\n",
       "    <tr>\n",
       "      <th>Garantia</th>\n",
       "      <td>497.888706</td>\n",
       "    </tr>\n",
       "    <tr>\n",
       "      <th>Grupo</th>\n",
       "      <td>500.761461</td>\n",
       "    </tr>\n",
       "    <tr>\n",
       "      <th>Identidade</th>\n",
       "      <td>498.858893</td>\n",
       "    </tr>\n",
       "    <tr>\n",
       "      <th>Implementação</th>\n",
       "      <td>501.646314</td>\n",
       "    </tr>\n",
       "    <tr>\n",
       "      <th>Integração</th>\n",
       "      <td>503.211706</td>\n",
       "    </tr>\n",
       "    <tr>\n",
       "      <th>Interações</th>\n",
       "      <td>498.849805</td>\n",
       "    </tr>\n",
       "    <tr>\n",
       "      <th>Intranet</th>\n",
       "      <td>499.643178</td>\n",
       "    </tr>\n",
       "    <tr>\n",
       "      <th>Marca</th>\n",
       "      <td>500.513447</td>\n",
       "    </tr>\n",
       "    <tr>\n",
       "      <th>Marketing</th>\n",
       "      <td>499.712373</td>\n",
       "    </tr>\n",
       "    <tr>\n",
       "      <th>Mercados</th>\n",
       "      <td>495.362091</td>\n",
       "    </tr>\n",
       "    <tr>\n",
       "      <th>Mobilidade</th>\n",
       "      <td>501.566734</td>\n",
       "    </tr>\n",
       "    <tr>\n",
       "      <th>Métricas</th>\n",
       "      <td>499.061580</td>\n",
       "    </tr>\n",
       "    <tr>\n",
       "      <th>Operações</th>\n",
       "      <td>495.447901</td>\n",
       "    </tr>\n",
       "    <tr>\n",
       "      <th>Otimização</th>\n",
       "      <td>501.036381</td>\n",
       "    </tr>\n",
       "    <tr>\n",
       "      <th>Paradigma</th>\n",
       "      <td>502.820945</td>\n",
       "    </tr>\n",
       "    <tr>\n",
       "      <th>Pesquisa</th>\n",
       "      <td>498.784515</td>\n",
       "    </tr>\n",
       "    <tr>\n",
       "      <th>Prestação de contas</th>\n",
       "      <td>498.813095</td>\n",
       "    </tr>\n",
       "    <tr>\n",
       "      <th>Programa</th>\n",
       "      <td>502.797252</td>\n",
       "    </tr>\n",
       "    <tr>\n",
       "      <th>Qualidade</th>\n",
       "      <td>501.121881</td>\n",
       "    </tr>\n",
       "    <tr>\n",
       "      <th>Rede</th>\n",
       "      <td>500.888008</td>\n",
       "    </tr>\n",
       "    <tr>\n",
       "      <th>Resposta</th>\n",
       "      <td>499.565322</td>\n",
       "    </tr>\n",
       "    <tr>\n",
       "      <th>Segurança</th>\n",
       "      <td>503.086734</td>\n",
       "    </tr>\n",
       "    <tr>\n",
       "      <th>Soluções</th>\n",
       "      <td>501.481668</td>\n",
       "    </tr>\n",
       "    <tr>\n",
       "      <th>Táticas</th>\n",
       "      <td>498.320258</td>\n",
       "    </tr>\n",
       "    <tr>\n",
       "      <th>Usabilidade</th>\n",
       "      <td>506.531420</td>\n",
       "    </tr>\n",
       "  </tbody>\n",
       "</table>\n",
       "</div>"
      ],
      "text/plain": [
       "                     VLR_TOTAL_GASTO\n",
       "NOM_AREA_TRABALHO                   \n",
       "                          500.397910\n",
       "A infraestrutura          499.722667\n",
       "Aplicações                501.907173\n",
       "Branding                  499.845293\n",
       "Comunicações              498.327090\n",
       "Configuração              502.580277\n",
       "Contas                    499.084772\n",
       "Criativo                  499.669854\n",
       "Dados                     500.888762\n",
       "Diretivas                 499.936022\n",
       "Divisão                   501.003315\n",
       "Fatores                   498.326736\n",
       "Funcionalidade            503.706068\n",
       "Garantia                  497.888706\n",
       "Grupo                     500.761461\n",
       "Identidade                498.858893\n",
       "Implementação             501.646314\n",
       "Integração                503.211706\n",
       "Interações                498.849805\n",
       "Intranet                  499.643178\n",
       "Marca                     500.513447\n",
       "Marketing                 499.712373\n",
       "Mercados                  495.362091\n",
       "Mobilidade                501.566734\n",
       "Métricas                  499.061580\n",
       "Operações                 495.447901\n",
       "Otimização                501.036381\n",
       "Paradigma                 502.820945\n",
       "Pesquisa                  498.784515\n",
       "Prestação de contas       498.813095\n",
       "Programa                  502.797252\n",
       "Qualidade                 501.121881\n",
       "Rede                      500.888008\n",
       "Resposta                  499.565322\n",
       "Segurança                 503.086734\n",
       "Soluções                  501.481668\n",
       "Táticas                   498.320258\n",
       "Usabilidade               506.531420"
      ]
     },
     "metadata": {},
     "output_type": "display_data"
    }
   ],
   "source": [
    "gastoJobArea = dataframe[['NOM_AREA_TRABALHO','VLR_TOTAL_GASTO']].groupby(['NOM_AREA_TRABALHO']).mean()\n",
    "display(gastoJobArea)"
   ]
  },
  {
   "cell_type": "markdown",
   "id": "PvJOWXpuK31h",
   "metadata": {
    "id": "PvJOWXpuK31h"
   },
   "source": [
    "**4:** Pessoa Fisica que menos gastou (Não gastou nada)\n"
   ]
  },
  {
   "cell_type": "code",
   "execution_count": 36,
   "id": "E-0ONI_EKPji",
   "metadata": {
    "colab": {
     "base_uri": "https://localhost:8080/",
     "height": 134
    },
    "id": "E-0ONI_EKPji",
    "outputId": "ae2ccf74-4173-4650-dfa5-f0f5b853ce8d"
   },
   "outputs": [
    {
     "data": {
      "text/html": [
       "<div>\n",
       "<style scoped>\n",
       "    .dataframe tbody tr th:only-of-type {\n",
       "        vertical-align: middle;\n",
       "    }\n",
       "\n",
       "    .dataframe tbody tr th {\n",
       "        vertical-align: top;\n",
       "    }\n",
       "\n",
       "    .dataframe thead th {\n",
       "        text-align: right;\n",
       "    }\n",
       "</style>\n",
       "<table border=\"1\" class=\"dataframe\">\n",
       "  <thead>\n",
       "    <tr style=\"text-align: right;\">\n",
       "      <th></th>\n",
       "      <th>NUM_DOCUMENTO</th>\n",
       "      <th>NOM_CLIENTE</th>\n",
       "      <th>NOM_CARGO</th>\n",
       "      <th>NOM_AREA_TRABALHO</th>\n",
       "      <th>NOM_TIPO_TRABALHO</th>\n",
       "      <th>NUM_TELEFONE</th>\n",
       "      <th>DATA_ANIVERSARIO</th>\n",
       "      <th>NOM_CIDADE</th>\n",
       "      <th>SGL_UF</th>\n",
       "      <th>VLR_TOTAL_GASTO</th>\n",
       "      <th>FLAG_TIPO_PESSOA</th>\n",
       "      <th>FLAG_DOCUMENTO_VALIDO</th>\n",
       "    </tr>\n",
       "  </thead>\n",
       "  <tbody>\n",
       "    <tr>\n",
       "      <th>247394</th>\n",
       "      <td>588.689.262-10</td>\n",
       "      <td>Sr. Enio Souza</td>\n",
       "      <td>Consultor Marketing Distrito</td>\n",
       "      <td>Comunicações</td>\n",
       "      <td>Assistente</td>\n",
       "      <td>+55 (06) 2438-8107</td>\n",
       "      <td>05/10/1971</td>\n",
       "      <td>Vila Eloa de Nossa Senhora</td>\n",
       "      <td>BA</td>\n",
       "      <td>0.0</td>\n",
       "      <td>PF</td>\n",
       "      <td>True</td>\n",
       "    </tr>\n",
       "  </tbody>\n",
       "</table>\n",
       "</div>"
      ],
      "text/plain": [
       "         NUM_DOCUMENTO     NOM_CLIENTE  ... FLAG_TIPO_PESSOA FLAG_DOCUMENTO_VALIDO\n",
       "247394  588.689.262-10  Sr. Enio Souza  ...               PF                  True\n",
       "\n",
       "[1 rows x 12 columns]"
      ]
     },
     "execution_count": 36,
     "metadata": {},
     "output_type": "execute_result"
    }
   ],
   "source": [
    "dataframe.loc[dataframe['FLAG_TIPO_PESSOA'] == 'PF'].nsmallest(1,'VLR_TOTAL_GASTO')"
   ]
  },
  {
   "cell_type": "markdown",
   "id": "iRcVlVhkOZgN",
   "metadata": {
    "id": "iRcVlVhkOZgN"
   },
   "source": [
    "**5.1:** Documentos repetidos ( Existem 430 repetiçoes de nomes)\n"
   ]
  },
  {
   "cell_type": "code",
   "execution_count": 51,
   "id": "edjKHazwLRdY",
   "metadata": {
    "colab": {
     "base_uri": "https://localhost:8080/",
     "height": 436
    },
    "id": "edjKHazwLRdY",
    "outputId": "c0f5b651-1fc2-45e7-9e69-700eabb5405a"
   },
   "outputs": [
    {
     "name": "stdout",
     "output_type": "stream",
     "text": [
      "Quantidade de Registros:  430\n"
     ]
    },
    {
     "data": {
      "text/html": [
       "<div>\n",
       "<style scoped>\n",
       "    .dataframe tbody tr th:only-of-type {\n",
       "        vertical-align: middle;\n",
       "    }\n",
       "\n",
       "    .dataframe tbody tr th {\n",
       "        vertical-align: top;\n",
       "    }\n",
       "\n",
       "    .dataframe thead th {\n",
       "        text-align: right;\n",
       "    }\n",
       "</style>\n",
       "<table border=\"1\" class=\"dataframe\">\n",
       "  <thead>\n",
       "    <tr style=\"text-align: right;\">\n",
       "      <th></th>\n",
       "      <th>NUM_DOCUMENTO</th>\n",
       "      <th>REPETIÇOES</th>\n",
       "    </tr>\n",
       "  </thead>\n",
       "  <tbody>\n",
       "    <tr>\n",
       "      <th>9227</th>\n",
       "      <td>012.062.948-84</td>\n",
       "      <td>2</td>\n",
       "    </tr>\n",
       "    <tr>\n",
       "      <th>18294</th>\n",
       "      <td>024.417.647-72</td>\n",
       "      <td>2</td>\n",
       "    </tr>\n",
       "    <tr>\n",
       "      <th>18758</th>\n",
       "      <td>025.334.714-96</td>\n",
       "      <td>2</td>\n",
       "    </tr>\n",
       "    <tr>\n",
       "      <th>24382</th>\n",
       "      <td>031.248.722-31</td>\n",
       "      <td>2</td>\n",
       "    </tr>\n",
       "    <tr>\n",
       "      <th>26580</th>\n",
       "      <td>035.472.532-76</td>\n",
       "      <td>2</td>\n",
       "    </tr>\n",
       "    <tr>\n",
       "      <th>...</th>\n",
       "      <td>...</td>\n",
       "      <td>...</td>\n",
       "    </tr>\n",
       "    <tr>\n",
       "      <th>989752</th>\n",
       "      <td>973.832.252-95</td>\n",
       "      <td>2</td>\n",
       "    </tr>\n",
       "    <tr>\n",
       "      <th>991669</th>\n",
       "      <td>977.647.971-54</td>\n",
       "      <td>2</td>\n",
       "    </tr>\n",
       "    <tr>\n",
       "      <th>991945</th>\n",
       "      <td>978.201.713-24</td>\n",
       "      <td>2</td>\n",
       "    </tr>\n",
       "    <tr>\n",
       "      <th>993346</th>\n",
       "      <td>981.826.427-44</td>\n",
       "      <td>2</td>\n",
       "    </tr>\n",
       "    <tr>\n",
       "      <th>994849</th>\n",
       "      <td>984.715.476-78</td>\n",
       "      <td>2</td>\n",
       "    </tr>\n",
       "  </tbody>\n",
       "</table>\n",
       "<p>430 rows × 2 columns</p>\n",
       "</div>"
      ],
      "text/plain": [
       "         NUM_DOCUMENTO  REPETIÇOES\n",
       "9227    012.062.948-84           2\n",
       "18294   024.417.647-72           2\n",
       "18758   025.334.714-96           2\n",
       "24382   031.248.722-31           2\n",
       "26580   035.472.532-76           2\n",
       "...                ...         ...\n",
       "989752  973.832.252-95           2\n",
       "991669  977.647.971-54           2\n",
       "991945  978.201.713-24           2\n",
       "993346  981.826.427-44           2\n",
       "994849  984.715.476-78           2\n",
       "\n",
       "[430 rows x 2 columns]"
      ]
     },
     "metadata": {},
     "output_type": "display_data"
    }
   ],
   "source": [
    "reptidos = dataframe[['NUM_DOCUMENTO']].groupby(['NUM_DOCUMENTO']).size().reset_index(name='REPETIÇOES')\n",
    "reptidos = reptidos.loc[reptidos['REPETIÇOES'] >1 ]\n",
    "print('Quantidade de Registros: ',len(reptidos))\n",
    "display(reptidos)"
   ]
  },
  {
   "cell_type": "markdown",
   "id": "HPHPe7SaOv7m",
   "metadata": {
    "id": "HPHPe7SaOv7m"
   },
   "source": [
    "**5.2:** Nomes repetidos ( Existem 173513 repetiçoes de nomes)\n"
   ]
  },
  {
   "cell_type": "code",
   "execution_count": 52,
   "id": "j6K-uK4IOqMW",
   "metadata": {
    "colab": {
     "base_uri": "https://localhost:8080/",
     "height": 436
    },
    "id": "j6K-uK4IOqMW",
    "outputId": "d39eb436-ef9d-4192-8587-9a2a0bb0b21d"
   },
   "outputs": [
    {
     "name": "stdout",
     "output_type": "stream",
     "text": [
      "Quantidade de Registros:  173513\n"
     ]
    },
    {
     "data": {
      "text/html": [
       "<div>\n",
       "<style scoped>\n",
       "    .dataframe tbody tr th:only-of-type {\n",
       "        vertical-align: middle;\n",
       "    }\n",
       "\n",
       "    .dataframe tbody tr th {\n",
       "        vertical-align: top;\n",
       "    }\n",
       "\n",
       "    .dataframe thead th {\n",
       "        text-align: right;\n",
       "    }\n",
       "</style>\n",
       "<table border=\"1\" class=\"dataframe\">\n",
       "  <thead>\n",
       "    <tr style=\"text-align: right;\">\n",
       "      <th></th>\n",
       "      <th>NOM_CLIENTE</th>\n",
       "      <th>REPETIÇOES</th>\n",
       "    </tr>\n",
       "  </thead>\n",
       "  <tbody>\n",
       "    <tr>\n",
       "      <th>0</th>\n",
       "      <td>Abdias</td>\n",
       "      <td>27</td>\n",
       "    </tr>\n",
       "    <tr>\n",
       "      <th>1</th>\n",
       "      <td>Abdias Albuquerque</td>\n",
       "      <td>4</td>\n",
       "    </tr>\n",
       "    <tr>\n",
       "      <th>2</th>\n",
       "      <td>Abdias Albuquerque Filho</td>\n",
       "      <td>2</td>\n",
       "    </tr>\n",
       "    <tr>\n",
       "      <th>3</th>\n",
       "      <td>Abdias Barros</td>\n",
       "      <td>4</td>\n",
       "    </tr>\n",
       "    <tr>\n",
       "      <th>5</th>\n",
       "      <td>Abdias Barros Jr.</td>\n",
       "      <td>2</td>\n",
       "    </tr>\n",
       "    <tr>\n",
       "      <th>...</th>\n",
       "      <td>...</td>\n",
       "      <td>...</td>\n",
       "    </tr>\n",
       "    <tr>\n",
       "      <th>455005</th>\n",
       "      <td>Érico Saraiva Neto</td>\n",
       "      <td>2</td>\n",
       "    </tr>\n",
       "    <tr>\n",
       "      <th>455007</th>\n",
       "      <td>Érico Silva</td>\n",
       "      <td>3</td>\n",
       "    </tr>\n",
       "    <tr>\n",
       "      <th>455009</th>\n",
       "      <td>Érico Silva Neto</td>\n",
       "      <td>3</td>\n",
       "    </tr>\n",
       "    <tr>\n",
       "      <th>455010</th>\n",
       "      <td>Érico Souza</td>\n",
       "      <td>4</td>\n",
       "    </tr>\n",
       "    <tr>\n",
       "      <th>455013</th>\n",
       "      <td>Érico Xavier</td>\n",
       "      <td>5</td>\n",
       "    </tr>\n",
       "  </tbody>\n",
       "</table>\n",
       "<p>173513 rows × 2 columns</p>\n",
       "</div>"
      ],
      "text/plain": [
       "                     NOM_CLIENTE  REPETIÇOES\n",
       "0                         Abdias          27\n",
       "1             Abdias Albuquerque           4\n",
       "2       Abdias Albuquerque Filho           2\n",
       "3                  Abdias Barros           4\n",
       "5              Abdias Barros Jr.           2\n",
       "...                          ...         ...\n",
       "455005        Érico Saraiva Neto           2\n",
       "455007               Érico Silva           3\n",
       "455009          Érico Silva Neto           3\n",
       "455010               Érico Souza           4\n",
       "455013              Érico Xavier           5\n",
       "\n",
       "[173513 rows x 2 columns]"
      ]
     },
     "metadata": {},
     "output_type": "display_data"
    }
   ],
   "source": [
    "clireptidos = dataframe[['NOM_CLIENTE']].groupby(['NOM_CLIENTE']).size().reset_index(name='REPETIÇOES')\n",
    "clireptidos = clireptidos.loc[clireptidos['REPETIÇOES'] >1 ]\n",
    "print('Quantidade de Registros: ',len(clireptidos))\n",
    "display(clireptidos)"
   ]
  },
  {
   "cell_type": "markdown",
   "id": "JiVaUEg5QBq-",
   "metadata": {
    "id": "JiVaUEg5QBq-"
   },
   "source": [
    "**5.3:** Nomes e documentos repetidos simultaneamente ( Não existe ocorrencias de um mesmo nome e um mesmo documento se repetindo simultaneamente)\n"
   ]
  },
  {
   "cell_type": "code",
   "execution_count": 53,
   "id": "J8PBM7mTPuMA",
   "metadata": {
    "colab": {
     "base_uri": "https://localhost:8080/",
     "height": 66
    },
    "id": "J8PBM7mTPuMA",
    "outputId": "d8dc149a-1ce2-4ccd-9281-f83a25cdb17d"
   },
   "outputs": [
    {
     "name": "stdout",
     "output_type": "stream",
     "text": [
      "Quantidade de Registros:  0\n"
     ]
    },
    {
     "data": {
      "text/html": [
       "<div>\n",
       "<style scoped>\n",
       "    .dataframe tbody tr th:only-of-type {\n",
       "        vertical-align: middle;\n",
       "    }\n",
       "\n",
       "    .dataframe tbody tr th {\n",
       "        vertical-align: top;\n",
       "    }\n",
       "\n",
       "    .dataframe thead th {\n",
       "        text-align: right;\n",
       "    }\n",
       "</style>\n",
       "<table border=\"1\" class=\"dataframe\">\n",
       "  <thead>\n",
       "    <tr style=\"text-align: right;\">\n",
       "      <th></th>\n",
       "      <th>NOM_CLIENTE</th>\n",
       "      <th>NUM_DOCUMENTO</th>\n",
       "      <th>REPETIÇOES</th>\n",
       "    </tr>\n",
       "  </thead>\n",
       "  <tbody>\n",
       "  </tbody>\n",
       "</table>\n",
       "</div>"
      ],
      "text/plain": [
       "Empty DataFrame\n",
       "Columns: [NOM_CLIENTE, NUM_DOCUMENTO, REPETIÇOES]\n",
       "Index: []"
      ]
     },
     "metadata": {},
     "output_type": "display_data"
    }
   ],
   "source": [
    "combrepetidos = dataframe[['NOM_CLIENTE','NUM_DOCUMENTO']].groupby(['NOM_CLIENTE','NUM_DOCUMENTO']).size().reset_index(name='REPETIÇOES')\n",
    "combrepetidos = combrepetidos.loc[combrepetidos['REPETIÇOES'] >1 ]\n",
    "print('Quantidade de Registros: ',len(combrepetidos))\n",
    "display(combrepetidos)"
   ]
  },
  {
   "cell_type": "markdown",
   "id": "BsFiVgklQzD1",
   "metadata": {
    "id": "BsFiVgklQzD1"
   },
   "source": [
    "**6:** Quantidade de registros no dataframe\n"
   ]
  },
  {
   "cell_type": "code",
   "execution_count": 54,
   "id": "e6payH4vQ5MF",
   "metadata": {
    "colab": {
     "base_uri": "https://localhost:8080/",
     "height": 762
    },
    "id": "e6payH4vQ5MF",
    "outputId": "9fe2a540-f44c-4d79-e7bb-0d9b7beef537"
   },
   "outputs": [
    {
     "name": "stdout",
     "output_type": "stream",
     "text": [
      "Quantidade de Registros:  1000000\n"
     ]
    },
    {
     "data": {
      "text/html": [
       "<div>\n",
       "<style scoped>\n",
       "    .dataframe tbody tr th:only-of-type {\n",
       "        vertical-align: middle;\n",
       "    }\n",
       "\n",
       "    .dataframe tbody tr th {\n",
       "        vertical-align: top;\n",
       "    }\n",
       "\n",
       "    .dataframe thead th {\n",
       "        text-align: right;\n",
       "    }\n",
       "</style>\n",
       "<table border=\"1\" class=\"dataframe\">\n",
       "  <thead>\n",
       "    <tr style=\"text-align: right;\">\n",
       "      <th></th>\n",
       "      <th>NUM_DOCUMENTO</th>\n",
       "      <th>NOM_CLIENTE</th>\n",
       "      <th>NOM_CARGO</th>\n",
       "      <th>NOM_AREA_TRABALHO</th>\n",
       "      <th>NOM_TIPO_TRABALHO</th>\n",
       "      <th>NUM_TELEFONE</th>\n",
       "      <th>DATA_ANIVERSARIO</th>\n",
       "      <th>NOM_CIDADE</th>\n",
       "      <th>SGL_UF</th>\n",
       "      <th>VLR_TOTAL_GASTO</th>\n",
       "      <th>FLAG_TIPO_PESSOA</th>\n",
       "      <th>FLAG_DOCUMENTO_VALIDO</th>\n",
       "    </tr>\n",
       "  </thead>\n",
       "  <tbody>\n",
       "    <tr>\n",
       "      <th>0</th>\n",
       "      <td>766.841.487-87</td>\n",
       "      <td>Charlleny Braga</td>\n",
       "      <td>Oficial Criativo Dinâmico</td>\n",
       "      <td>Configuração</td>\n",
       "      <td>Estrategista</td>\n",
       "      <td>+55 (62) 4216-9799</td>\n",
       "      <td>20/05/1972</td>\n",
       "      <td>Município de Iara</td>\n",
       "      <td>GO</td>\n",
       "      <td>913.80</td>\n",
       "      <td>PF</td>\n",
       "      <td>True</td>\n",
       "    </tr>\n",
       "    <tr>\n",
       "      <th>1</th>\n",
       "      <td>857.048.557-33</td>\n",
       "      <td>Newton Saraiva</td>\n",
       "      <td>Administrador Comunicações Internacional</td>\n",
       "      <td>Prestação de contas</td>\n",
       "      <td>Facilitador</td>\n",
       "      <td></td>\n",
       "      <td>10/06/1982</td>\n",
       "      <td>Município de Neide do Sul</td>\n",
       "      <td>RR</td>\n",
       "      <td>57.26</td>\n",
       "      <td>PF</td>\n",
       "      <td>True</td>\n",
       "    </tr>\n",
       "    <tr>\n",
       "      <th>2</th>\n",
       "      <td>15.664.328/3733-77</td>\n",
       "      <td>Dr. Sr. Solange Macedo</td>\n",
       "      <td>Designer Identidade Direto</td>\n",
       "      <td>Métricas</td>\n",
       "      <td>NaN</td>\n",
       "      <td>+55 (95) 7143-3307</td>\n",
       "      <td>16/05/1968</td>\n",
       "      <td>Município de Santo</td>\n",
       "      <td>RO</td>\n",
       "      <td>660.71</td>\n",
       "      <td>PJ</td>\n",
       "      <td>True</td>\n",
       "    </tr>\n",
       "    <tr>\n",
       "      <th>3</th>\n",
       "      <td>02.328.238/0877-86</td>\n",
       "      <td>Celina Carvalho Jr.</td>\n",
       "      <td>NaN</td>\n",
       "      <td>Qualidade</td>\n",
       "      <td>Ligação</td>\n",
       "      <td>+55 (58) 4136-5577</td>\n",
       "      <td>17/04/1981</td>\n",
       "      <td>Reis do Norte</td>\n",
       "      <td>RO</td>\n",
       "      <td>542.51</td>\n",
       "      <td>PJ</td>\n",
       "      <td>True</td>\n",
       "    </tr>\n",
       "    <tr>\n",
       "      <th>4</th>\n",
       "      <td>30.073.687/4087-40</td>\n",
       "      <td>Aurilo Martins</td>\n",
       "      <td>Especialista Paradigma Internacional</td>\n",
       "      <td>Programa</td>\n",
       "      <td>Executivo</td>\n",
       "      <td>+55 (96) 4749-8732</td>\n",
       "      <td>04/07/1980</td>\n",
       "      <td>Município de Aminadab</td>\n",
       "      <td>RO</td>\n",
       "      <td>104.33</td>\n",
       "      <td>PJ</td>\n",
       "      <td>True</td>\n",
       "    </tr>\n",
       "    <tr>\n",
       "      <th>...</th>\n",
       "      <td>...</td>\n",
       "      <td>...</td>\n",
       "      <td>...</td>\n",
       "      <td>...</td>\n",
       "      <td>...</td>\n",
       "      <td>...</td>\n",
       "      <td>...</td>\n",
       "      <td>...</td>\n",
       "      <td>...</td>\n",
       "      <td>...</td>\n",
       "      <td>...</td>\n",
       "      <td>...</td>\n",
       "    </tr>\n",
       "    <tr>\n",
       "      <th>999995</th>\n",
       "      <td>202.970.542-01</td>\n",
       "      <td>Aurilo Franco Neto</td>\n",
       "      <td>Agente Funcionalidade Investidor</td>\n",
       "      <td>Otimização</td>\n",
       "      <td>NaN</td>\n",
       "      <td>+55 (54) 8742-5107</td>\n",
       "      <td>16/04/1976</td>\n",
       "      <td>Vila Attilio</td>\n",
       "      <td>RO</td>\n",
       "      <td>180.85</td>\n",
       "      <td>PF</td>\n",
       "      <td>True</td>\n",
       "    </tr>\n",
       "    <tr>\n",
       "      <th>999996</th>\n",
       "      <td>76.245.248/0354-84</td>\n",
       "      <td>Iata Martins</td>\n",
       "      <td>Técnico A infraestrutura Central</td>\n",
       "      <td>Rede</td>\n",
       "      <td>NaN</td>\n",
       "      <td>+55 (72) 8066-0110</td>\n",
       "      <td>22/05/1981</td>\n",
       "      <td>Grande Roverlei</td>\n",
       "      <td>PB</td>\n",
       "      <td>89.75</td>\n",
       "      <td>PJ</td>\n",
       "      <td>True</td>\n",
       "    </tr>\n",
       "    <tr>\n",
       "      <th>999997</th>\n",
       "      <td>15.787.105/2002-06</td>\n",
       "      <td>Erica Melo</td>\n",
       "      <td>Associado Operações Cliente</td>\n",
       "      <td>Garantia</td>\n",
       "      <td>NaN</td>\n",
       "      <td>+55 (00) 5316-2453</td>\n",
       "      <td>23/01/1988</td>\n",
       "      <td>NaN</td>\n",
       "      <td>MA</td>\n",
       "      <td>138.48</td>\n",
       "      <td>PJ</td>\n",
       "      <td>True</td>\n",
       "    </tr>\n",
       "    <tr>\n",
       "      <th>999998</th>\n",
       "      <td>129.226.816-61</td>\n",
       "      <td>Jurema Carvalho Filho Neto</td>\n",
       "      <td>Agente Operações Legado</td>\n",
       "      <td>Programa</td>\n",
       "      <td>Engenheiro</td>\n",
       "      <td>+55 (44) 8691-2473</td>\n",
       "      <td>11/04/1968</td>\n",
       "      <td>NaN</td>\n",
       "      <td>RN</td>\n",
       "      <td>827.67</td>\n",
       "      <td>PF</td>\n",
       "      <td>True</td>\n",
       "    </tr>\n",
       "    <tr>\n",
       "      <th>999999</th>\n",
       "      <td>971.454.113-18</td>\n",
       "      <td>Sr. Jair Martins</td>\n",
       "      <td>Produtor Comunicações Frente</td>\n",
       "      <td>Interações</td>\n",
       "      <td>Analista</td>\n",
       "      <td>+55 (28) 0064-5483</td>\n",
       "      <td>27/11/1988</td>\n",
       "      <td>Nova Deise</td>\n",
       "      <td>AL</td>\n",
       "      <td>803.81</td>\n",
       "      <td>PF</td>\n",
       "      <td>True</td>\n",
       "    </tr>\n",
       "  </tbody>\n",
       "</table>\n",
       "<p>1000000 rows × 12 columns</p>\n",
       "</div>"
      ],
      "text/plain": [
       "             NUM_DOCUMENTO  ... FLAG_DOCUMENTO_VALIDO\n",
       "0           766.841.487-87  ...                  True\n",
       "1           857.048.557-33  ...                  True\n",
       "2       15.664.328/3733-77  ...                  True\n",
       "3       02.328.238/0877-86  ...                  True\n",
       "4       30.073.687/4087-40  ...                  True\n",
       "...                    ...  ...                   ...\n",
       "999995      202.970.542-01  ...                  True\n",
       "999996  76.245.248/0354-84  ...                  True\n",
       "999997  15.787.105/2002-06  ...                  True\n",
       "999998      129.226.816-61  ...                  True\n",
       "999999      971.454.113-18  ...                  True\n",
       "\n",
       "[1000000 rows x 12 columns]"
      ]
     },
     "metadata": {},
     "output_type": "display_data"
    }
   ],
   "source": [
    "print('Quantidade de Registros: ',len(dataframe))\n",
    "display(dataframe)"
   ]
  },
  {
   "cell_type": "markdown",
   "id": "epocDZFFSMsL",
   "metadata": {
    "id": "epocDZFFSMsL"
   },
   "source": [
    "### Particionamento dos dados \n"
   ]
  },
  {
   "cell_type": "markdown",
   "id": "5tLDofUmeiiL",
   "metadata": {
    "id": "5tLDofUmeiiL"
   },
   "source": [
    "**1:** Parquet por estados\n"
   ]
  },
  {
   "cell_type": "code",
   "execution_count": 84,
   "id": "gUy_eav_SRDz",
   "metadata": {
    "colab": {
     "base_uri": "https://localhost:8080/"
    },
    "id": "gUy_eav_SRDz",
    "outputId": "a61d7c0d-c341-4a7b-b4df-54fd58538725"
   },
   "outputs": [
    {
     "name": "stderr",
     "output_type": "stream",
     "text": [
      "100%|██████████| 27/27 [00:06<00:00,  4.30it/s]\n"
     ]
    }
   ],
   "source": [
    "path_Inicial = '/Problema2/ParquetPorEstados'\n",
    "if not os.path.isdir(path_Inicial):\n",
    "    os.makedirs(path_Inicial)\n",
    "estados = dataframe['SGL_UF'].drop_duplicates().values.tolist()\n",
    "for uf in tqdm(estados):\n",
    "  perStateData = dataframe.loc[dataframe['SGL_UF'] == uf]\n",
    "  perStateData.to_parquet(path_Inicial+'/'+uf+'.parquet')"
   ]
  },
  {
   "cell_type": "markdown",
   "id": "Pi2ShmtLeqbq",
   "metadata": {
    "id": "Pi2ShmtLeqbq"
   },
   "source": [
    "**2:** CSV por Ano, mes e dia\n"
   ]
  },
  {
   "cell_type": "code",
   "execution_count": null,
   "id": "tsTbP4IiYznY",
   "metadata": {
    "id": "tsTbP4IiYznY"
   },
   "outputs": [],
   "source": [
    "path_Inicial = '/Problema2/CsvPorData'\n",
    "if not os.path.isdir(path_Inicial):\n",
    "    os.makedirs(path_Inicial)\n",
    "datas = dataframe['DATA_ANIVERSARIO'].drop_duplicates().values.tolist()\n",
    "for dat in tqdm(datas):\n",
    "  path =path_Inicial+'/'+(datetime.strptime(dat,'%d/%m/%Y' )).strftime('%Y/%m/%d')\n",
    "  if not os.path.isdir(path):\n",
    "    os.makedirs(path)\n",
    "  dataf = dataframe.loc[dataframe['DATA_ANIVERSARIO'].str.contains(dat)]\n",
    "  dataf.to_csv(path+'/'+dat.replace('/','-')+'.csv', sep=';', encoding='utf-8')"
   ]
  }
 ],
 "metadata": {
  "colab": {
   "collapsed_sections": [],
   "name": "DataAnalytics_test.ipynb",
   "provenance": []
  },
  "kernelspec": {
   "display_name": "Python 3 (ipykernel)",
   "language": "python",
   "name": "python3"
  },
  "language_info": {
   "codemirror_mode": {
    "name": "ipython",
    "version": 3
   },
   "file_extension": ".py",
   "mimetype": "text/x-python",
   "name": "python",
   "nbconvert_exporter": "python",
   "pygments_lexer": "ipython3",
   "version": "3.9.6"
  }
 },
 "nbformat": 4,
 "nbformat_minor": 5
}
